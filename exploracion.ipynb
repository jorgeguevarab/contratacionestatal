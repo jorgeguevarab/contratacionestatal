{
 "cells": [
  {
   "cell_type": "code",
   "execution_count": 6,
   "metadata": {},
   "outputs": [
    {
     "name": "stdout",
     "output_type": "stream",
     "text": [
      "<class 'pandas.core.frame.DataFrame'>\n",
      "RangeIndex: 1000 entries, 0 to 999\n",
      "Data columns (total 21 columns):\n",
      " #   Column                       Non-Null Count  Dtype  \n",
      "---  ------                       --------------  -----  \n",
      " 0   nivel_entidad                1000 non-null   object \n",
      " 1   nombre_de_la_entidad         1000 non-null   object \n",
      " 2   nit_de_la_entidad            1000 non-null   object \n",
      " 3   departamento_entidad         1000 non-null   object \n",
      " 4   municipio_entidad            1000 non-null   object \n",
      " 5   estado_del_proceso           1000 non-null   object \n",
      " 6   modalidad_de_contrataci_n    1000 non-null   object \n",
      " 7   objeto_a_contratar           1000 non-null   object \n",
      " 8   objeto_del_proceso           1000 non-null   object \n",
      " 9   tipo_de_contrato             1000 non-null   object \n",
      " 10  fecha_de_firma_del_contrato  0 non-null      float64\n",
      " 11  fecha_inicio_ejecucion       0 non-null      float64\n",
      " 12  fecha_fin_ejecucion          0 non-null      float64\n",
      " 13  tipo_contrato                1000 non-null   object \n",
      " 14  numero_del_contrato          1000 non-null   object \n",
      " 15  numero_de_proceso            1000 non-null   object \n",
      " 16  valor_contrato               1000 non-null   int64  \n",
      " 17  nom_raz_social_contratista   1000 non-null   object \n",
      " 18  url_contrato                 1000 non-null   object \n",
      " 19  origen                       1000 non-null   object \n",
      " 20  documento_proveedor          1000 non-null   object \n",
      "dtypes: float64(3), int64(1), object(17)\n",
      "memory usage: 164.2+ KB\n"
     ]
    }
   ],
   "source": [
    "#Loading libraries\n",
    "\n",
    "import pandas as pd\n",
    "import matplotlib as plt\n",
    "import seaborn as sns\n",
    "\n",
    "url = \"https://www.datos.gov.co/resource/rpmr-utcd.csv\"\n",
    "\n",
    "df = pd.read_csv(url)\n",
    "\n",
    "df.info()\n",
    "\n",
    "\n"
   ]
  },
  {
   "cell_type": "code",
   "execution_count": null,
   "metadata": {},
   "outputs": [],
   "source": []
  }
 ],
 "metadata": {
  "kernelspec": {
   "display_name": "venv",
   "language": "python",
   "name": "python3"
  },
  "language_info": {
   "codemirror_mode": {
    "name": "ipython",
    "version": 3
   },
   "file_extension": ".py",
   "mimetype": "text/x-python",
   "name": "python",
   "nbconvert_exporter": "python",
   "pygments_lexer": "ipython3",
   "version": "3.11.6"
  }
 },
 "nbformat": 4,
 "nbformat_minor": 2
}
